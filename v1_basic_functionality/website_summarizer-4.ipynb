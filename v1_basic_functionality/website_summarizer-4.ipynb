{
 "cells": [
  {
   "cell_type": "code",
   "execution_count": 41,
   "id": "4dd6fd30-e078-4a35-a188-7b3dc9c33fe0",
   "metadata": {},
   "outputs": [],
   "source": [
    "import os\n",
    "import requests\n",
    "from dotenv import load_dotenv\n",
    "from bs4 import BeautifulSoup\n",
    "from IPython.display import Markdown, display\n",
    "from openai import OpenAI\n",
    "\n",
    "from selenium import webdriver\n",
    "from selenium.webdriver.chrome.options import Options\n",
    "import time"
   ]
  },
  {
   "cell_type": "code",
   "execution_count": 42,
   "id": "f04f41e2-0fb9-40f0-b781-f614cdb194f6",
   "metadata": {},
   "outputs": [
    {
     "name": "stdout",
     "output_type": "stream",
     "text": [
      "API key found, looks good so far!\n"
     ]
    }
   ],
   "source": [
    "load_dotenv(override = True)\n",
    "api_key = os.getenv(\"OPENAI_API_KEY\")\n",
    "\n",
    "if not api_key:\n",
    "    print(\"No API key was found!\")\n",
    "elif not api_key.startswith(\"sk-proj-\"):\n",
    "    print(\"An API key was found, but it doesn't start with sk-proj-; please check the key!\")\n",
    "elif api_key.strip() != api_key:\n",
    "    print(\"An API key was found, but it looks like it might have space and tab characters ate the start or end!\")\n",
    "else:\n",
    "    print(\"API key found, looks good so far!\")"
   ]
  },
  {
   "cell_type": "code",
   "execution_count": 43,
   "id": "23060325-e074-4ed4-ac7f-ec92e593700c",
   "metadata": {},
   "outputs": [
    {
     "name": "stdout",
     "output_type": "stream",
     "text": [
      "Hello! Welcome! I'm glad to hear from you. How can I assist you today?\n"
     ]
    }
   ],
   "source": [
    "# lets make a quick call to a frontier model to get started, as a preview!\n",
    "openai = OpenAI()\n",
    "message = \"Hello, GPT! This is my first ever message to you! Hi!\"\n",
    "response = openai.chat.completions.create(\n",
    "    model= \"gpt-4o-mini\", \n",
    "    messages=[\n",
    "        {\n",
    "            \"role\":\"user\", \n",
    "         \"content\":message\n",
    "        }\n",
    "    ]\n",
    ")\n",
    "print(response.choices[0].message.content)"
   ]
  },
  {
   "cell_type": "code",
   "execution_count": 44,
   "id": "7ea393c5-fd14-4528-970c-8eb8cc5d3964",
   "metadata": {},
   "outputs": [],
   "source": [
    "headers = {\n",
    "    \"User-Agent\": \"Mozilla/5.0 (Windows NT 10.0; Win64; x64) AppleWebKit/537.36 (KHTML, like Gecko) Chrome/117.0.0.0 Safari/537.36\"\n",
    "}\n",
    "\n",
    "class Website:\n",
    "    def __init__(self, url):\n",
    "        self.url = url\n",
    "\n",
    "        options = Options()\n",
    "        options.add_argument(\"--headless\")  # run browser in background\n",
    "        driver = webdriver.Chrome(options=options)\n",
    "\n",
    "        driver.get(url)\n",
    "        time.sleep(3)  # wait for JavaScript to finish loading\n",
    "\n",
    "        soup = BeautifulSoup(driver.page_source, 'html.parser')\n",
    "        driver.quit()\n",
    "\n",
    "        self.title = soup.title.string if soup.title else \"No title found\"\n",
    "\n",
    "        for tag in soup([\"script\", \"style\", \"img\", \"input\"]):\n",
    "            tag.decompose()\n",
    "\n",
    "        self.text = soup.body.get_text(separator=\"\\n\", strip=True)"
   ]
  },
  {
   "cell_type": "code",
   "execution_count": 45,
   "id": "3899bbf2-6ca4-43f8-907b-d41d2b6c1b52",
   "metadata": {},
   "outputs": [
    {
     "name": "stderr",
     "output_type": "stream",
     "text": [
      "Exception managing chrome: error sending request for url (https://googlechromelabs.github.io/chrome-for-testing/last-known-good-versions-with-downloads.json)\n",
      "Exception managing chrome: error sending request for url (https://googlechromelabs.github.io/chrome-for-testing/last-known-good-versions-with-downloads.json)\n",
      "The chromedriver version (135.0.7049.84) detected in PATH at /usr/local/bin/chromedriver might not be compatible with the detected chrome version (); currently, chromedriver  is recommended for chrome .*, so it is advised to delete the driver in PATH and retry\n",
      "There was an error managing chrome; using browser found in the cache\n"
     ]
    },
    {
     "name": "stdout",
     "output_type": "stream",
     "text": [
      "Perplexity AI - Wikipedia\n"
     ]
    }
   ],
   "source": [
    "ed = Website(\"https://en.wikipedia.org/wiki/Perplexity_AI\")\n",
    "print(ed.title)"
   ]
  },
  {
   "cell_type": "code",
   "execution_count": 46,
   "id": "eced0f7a-28b5-4862-9d4f-eb89727979b4",
   "metadata": {},
   "outputs": [],
   "source": [
    "system_prompt = \"You are an assistant that analyzes the contents of a website \\\n",
    "and provides a short summary, ignoring text that might be navigation related. \\\n",
    "Respond in markdown.\""
   ]
  },
  {
   "cell_type": "code",
   "execution_count": 47,
   "id": "9ead032b-fa73-4782-8a8b-344e70497c7f",
   "metadata": {},
   "outputs": [],
   "source": [
    "def user_prompt_for(website):\n",
    "    user_prompt = f\"You are looking at a website titled {website.title}\"\n",
    "    user_prompt += \"\\nThe contents of this website is as follows; \\\n",
    "please provide a short summary of this website in markdown. \\\n",
    "If it includes news or announcements, then summarize these too.\\n\\n\"\n",
    "\n",
    "    user_prompt += website.text\n",
    "    return user_prompt"
   ]
  },
  {
   "cell_type": "code",
   "execution_count": 48,
   "id": "700209bc-c593-4a63-87e8-cb1aa59b5f43",
   "metadata": {},
   "outputs": [],
   "source": [
    "# print(user_prompt_for(ed))"
   ]
  },
  {
   "cell_type": "code",
   "execution_count": 49,
   "id": "ea04f5b0-e5bd-47f4-b352-c2e003b581fe",
   "metadata": {},
   "outputs": [],
   "source": [
    "messages = [\n",
    "    {\"role\": \"system\", \"content\" : \"You are a snarky assistent\"},\n",
    "    {\"role\" : \"user\", \"content\" : \"What is 2 + 2 ?\"}\n",
    "]"
   ]
  },
  {
   "cell_type": "code",
   "execution_count": 50,
   "id": "47801dc3-71a9-4bc0-92c9-590267b5adb0",
   "metadata": {},
   "outputs": [
    {
     "name": "stdout",
     "output_type": "stream",
     "text": [
      "Oh wow, we’re really diving into advanced math here! The answer is 4. But if you want me to go deeper, I can start discussing the meaning of life or something equally profound!\n"
     ]
    }
   ],
   "source": [
    "response = openai.chat.completions.create(model = \"gpt-4o-mini\", messages = messages)\n",
    "print(response.choices[0].message.content)"
   ]
  },
  {
   "cell_type": "code",
   "execution_count": 51,
   "id": "d6b68887-e612-4b59-b665-abbbad7bb1ef",
   "metadata": {},
   "outputs": [],
   "source": [
    "def messages_for(website):\n",
    "    return [\n",
    "        {\"role\": \"system\", \"content\": system_prompt},\n",
    "        {\"role\": \"user\", \"content\" : user_prompt_for(website)}\n",
    "    ]"
   ]
  },
  {
   "cell_type": "code",
   "execution_count": 52,
   "id": "bbff21dc-3842-44c1-a86a-4de32ddd54c4",
   "metadata": {},
   "outputs": [],
   "source": [
    "# messages_for(ed)"
   ]
  },
  {
   "cell_type": "code",
   "execution_count": 53,
   "id": "7b1585d3-d572-4191-939c-99e1a308a5aa",
   "metadata": {},
   "outputs": [],
   "source": [
    "def summarize(url):\n",
    "    website = Website(url)\n",
    "    response = openai.chat.completions.create(\n",
    "        model = \"gpt-4o-mini\",\n",
    "        messages = messages_for(website)\n",
    "    )\n",
    "    return response.choices[0].message.content"
   ]
  },
  {
   "cell_type": "code",
   "execution_count": 54,
   "id": "abfaa8b8-70ba-46ad-b362-9acf62888c1f",
   "metadata": {},
   "outputs": [
    {
     "data": {
      "text/plain": [
       "'# Summary of Perplexity AI - Wikipedia\\n\\nPerplexity AI is an American web search engine that integrates a large language model to process user queries and deliver synthesized responses, complete with citations from web-based sources. Founded in August 2022 by Aravind Srinivas, Denis Yarats, Johnny Ho, and Andy Konwinski, the search engine was officially launched on December 7, 2022. As of December 2024, the company was valued at approximately $9 billion and has around 100 employees, with a headquarters in San Francisco, California.\\n\\n## Key Features and Services\\n- **Conversational Interface**: Users can ask follow-up questions and receive answers with direct citations.\\n- **Freemium Model**: A free version utilizes GPT-3.5, while a paid Pro subscription offers advanced LLM options and API access.\\n- **Product Introduction**: \\n  - **Shopping Hub** was launched in November 2024 to enhance user shopping experiences by displaying product cards based on search queries.\\n  - **Internal Knowledge Search** for Pro users allows searching through both web content and uploaded documents.\\n  - **Finance Tools** were added in October 2024, enabling users to access stock quotes and financial data.\\n  - **Perplexity Assistant**, launched in January 2025, is an AI-powered mobile assistant designed for various tasks on Android devices.\\n\\n## Recent Developments and Controversies\\n- **Funding**: The company raised $500 million in late 2024, significantly boosting its valuation.\\n- **Legal Challenges**: Perplexity is facing lawsuits from entities like Dow Jones and The New York Post for alleged copyright infringement, specifically for unpaid use of their content. Additionally, it has been sued for trademark infringement by Perplexity Solved Solutions.\\n- **Publisher Revenue Program**: In July 2024, Perplexity announced a program intended to share ad revenue with content partners.\\n\\nThis page emphasizes the growth and controversies surrounding Perplexity AI, highlighting its innovative features and the challenges posed by legal disputes in the competitive landscape of AI-driven search engines.'"
      ]
     },
     "execution_count": 54,
     "metadata": {},
     "output_type": "execute_result"
    }
   ],
   "source": [
    "summarize(\"https://en.wikipedia.org/wiki/Perplexity_AI\")"
   ]
  },
  {
   "cell_type": "code",
   "execution_count": null,
   "id": "0fa84ea6-817d-4b54-bc80-38078aa4d007",
   "metadata": {},
   "outputs": [],
   "source": []
  },
  {
   "cell_type": "code",
   "execution_count": null,
   "id": "8ed954d4-f60f-4e60-b5f1-b01acb7b3fde",
   "metadata": {},
   "outputs": [],
   "source": []
  },
  {
   "cell_type": "code",
   "execution_count": null,
   "id": "edf1e5a7-c2ad-4361-8b49-ea6eeadf1bfb",
   "metadata": {},
   "outputs": [],
   "source": []
  }
 ],
 "metadata": {
  "kernelspec": {
   "display_name": "Python (your_env_name)",
   "language": "python",
   "name": "your_env_name"
  },
  "language_info": {
   "codemirror_mode": {
    "name": "ipython",
    "version": 3
   },
   "file_extension": ".py",
   "mimetype": "text/x-python",
   "name": "python",
   "nbconvert_exporter": "python",
   "pygments_lexer": "ipython3",
   "version": "3.12.7"
  }
 },
 "nbformat": 4,
 "nbformat_minor": 5
}
